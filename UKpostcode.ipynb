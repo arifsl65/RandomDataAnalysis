{
  "nbformat": 4,
  "nbformat_minor": 0,
  "metadata": {
    "colab": {
      "provenance": [],
      "authorship_tag": "ABX9TyMzfNhXPynvl+/JNTINYzHW",
      "include_colab_link": true
    },
    "kernelspec": {
      "name": "python3",
      "display_name": "Python 3"
    },
    "language_info": {
      "name": "python"
    }
  },
  "cells": [
    {
      "cell_type": "markdown",
      "metadata": {
        "id": "view-in-github",
        "colab_type": "text"
      },
      "source": [
        "<a href=\"https://colab.research.google.com/github/arifsl65/RandomDataAnalysis/blob/main/UKpostcode.ipynb\" target=\"_parent\"><img src=\"https://colab.research.google.com/assets/colab-badge.svg\" alt=\"Open In Colab\"/></a>"
      ]
    },
    {
      "cell_type": "code",
      "execution_count": 1,
      "metadata": {
        "colab": {
          "base_uri": "https://localhost:8080/"
        },
        "id": "SpunfiCtddGP",
        "outputId": "cbba994b-1dc2-4db9-93e2-cd1bd5751011"
      },
      "outputs": [
        {
          "output_type": "stream",
          "name": "stdout",
          "text": [
            "Enter the postcode: da14 6bg\n",
            "Latitude: 51.422496, Longitude: 0.099587\n"
          ]
        }
      ],
      "source": [
        "from geopy.geocoders import OpenCage\n",
        "from geopy.exc import GeocoderTimedOut\n",
        "\n",
        "def get_lat_long(api_key, postcode):\n",
        "    geolocator = OpenCage(api_key=api_key)\n",
        "\n",
        "    try:\n",
        "        location = geolocator.geocode(postcode)\n",
        "        if location:\n",
        "            return location.latitude, location.longitude\n",
        "        else:\n",
        "            return None\n",
        "    except GeocoderTimedOut:\n",
        "        print(\"Geocoding service timed out. Please try again.\")\n",
        "        return None\n",
        "\n",
        "def main():\n",
        "    # Replace 'YOUR_API_KEY' with your OpenCage Geocoding API key\n",
        "    api_key = '822c0d161ed84d54a090cbe18537e250'\n",
        "\n",
        "    postcode = input(\"Enter the postcode: \")\n",
        "\n",
        "    coordinates = get_lat_long(api_key, postcode)\n",
        "\n",
        "    if coordinates:\n",
        "        print(f\"Latitude: {coordinates[0]}, Longitude: {coordinates[1]}\")\n",
        "    else:\n",
        "        print(\"Unable to retrieve coordinates for the given postcode.\")\n",
        "\n",
        "if __name__ == \"__main__\":\n",
        "    main()\n"
      ]
    },
    {
      "cell_type": "code",
      "source": [
        "from urllib.parse import quote\n",
        "import requests\n",
        "import json\n",
        "\n",
        "# Request parameters\n",
        "api_key = \"PCWFR-PKXJ7-U2ZP2-B3Z5X\"\n",
        "country_code = \"UK\"\n",
        "search_term = \"da14 6bg\"\n",
        "\n",
        "# Prepare request and encode user-entered parameters with %xx encoding\n",
        "request_url = f\"https://ws.postcoder.com/pcw/{api_key}/address/{country_code}/{quote(search_term, safe='')}\"\n",
        "\n",
        "# Send request\n",
        "response = requests.get(request_url)\n",
        "\n",
        "# Process response\n",
        "if response.status_code == 200:\n",
        "    json = response.json()\n",
        "    if len(json) > 0:\n",
        "        for address in json:\n",
        "            print(address[\"summaryline\"])\n",
        "    else:\n",
        "        print(\"No results\")\n",
        "else:\n",
        "    print(f\"Request error: {response.content.decode()}\")\n"
      ],
      "metadata": {
        "colab": {
          "base_uri": "https://localhost:8080/"
        },
        "id": "hOmQqUDo2GDs",
        "outputId": "10cc27f6-4d6f-4763-bad3-2b98b646bcf8"
      },
      "execution_count": 6,
      "outputs": [
        {
          "output_type": "stream",
          "name": "stdout",
          "text": [
            "Flat 1, The Elms, Chislehurst Road, Sidcup, Kent, DA14 6BG\n",
            "Flat 2, The Elms, Chislehurst Road, Sidcup, Kent, DA14 6BG\n",
            "Flat 3, The Elms, Chislehurst Road, Sidcup, Kent, DA14 6BG\n",
            "Flat 4, The Elms, Chislehurst Road, Sidcup, Kent, DA14 6BG\n",
            "Flat 5, The Elms, Chislehurst Road, Sidcup, Kent, DA14 6BG\n",
            "Flat 6, The Elms, Chislehurst Road, Sidcup, Kent, DA14 6BG\n",
            "Flat 7, The Elms, Chislehurst Road, Sidcup, Kent, DA14 6BG\n",
            "Flat 8, The Elms, Chislehurst Road, Sidcup, Kent, DA14 6BG\n",
            "Flat 9, The Elms, Chislehurst Road, Sidcup, Kent, DA14 6BG\n",
            "Flat 10, The Elms, Chislehurst Road, Sidcup, Kent, DA14 6BG\n",
            "Flat 1, Wood Place, Chislehurst Road, Sidcup, Kent, DA14 6BG\n",
            "Flat 2, Wood Place, Chislehurst Road, Sidcup, Kent, DA14 6BG\n",
            "Flat 3, Wood Place, Chislehurst Road, Sidcup, Kent, DA14 6BG\n",
            "Flat 4, Wood Place, Chislehurst Road, Sidcup, Kent, DA14 6BG\n",
            "Flat 5, Wood Place, Chislehurst Road, Sidcup, Kent, DA14 6BG\n",
            "Flat 6, Wood Place, Chislehurst Road, Sidcup, Kent, DA14 6BG\n"
          ]
        }
      ]
    },
    {
      "cell_type": "code",
      "source": [
        "pip install folium\n"
      ],
      "metadata": {
        "colab": {
          "base_uri": "https://localhost:8080/"
        },
        "id": "cN-gasiPd878",
        "outputId": "a2b5d4b6-5c29-4db9-ceee-7893419cea1f"
      },
      "execution_count": 2,
      "outputs": [
        {
          "output_type": "stream",
          "name": "stdout",
          "text": [
            "Requirement already satisfied: folium in /usr/local/lib/python3.10/dist-packages (0.14.0)\n",
            "Requirement already satisfied: branca>=0.6.0 in /usr/local/lib/python3.10/dist-packages (from folium) (0.7.0)\n",
            "Requirement already satisfied: jinja2>=2.9 in /usr/local/lib/python3.10/dist-packages (from folium) (3.1.3)\n",
            "Requirement already satisfied: numpy in /usr/local/lib/python3.10/dist-packages (from folium) (1.23.5)\n",
            "Requirement already satisfied: requests in /usr/local/lib/python3.10/dist-packages (from folium) (2.31.0)\n",
            "Requirement already satisfied: MarkupSafe>=2.0 in /usr/local/lib/python3.10/dist-packages (from jinja2>=2.9->folium) (2.1.3)\n",
            "Requirement already satisfied: charset-normalizer<4,>=2 in /usr/local/lib/python3.10/dist-packages (from requests->folium) (3.3.2)\n",
            "Requirement already satisfied: idna<4,>=2.5 in /usr/local/lib/python3.10/dist-packages (from requests->folium) (3.6)\n",
            "Requirement already satisfied: urllib3<3,>=1.21.1 in /usr/local/lib/python3.10/dist-packages (from requests->folium) (2.0.7)\n",
            "Requirement already satisfied: certifi>=2017.4.17 in /usr/local/lib/python3.10/dist-packages (from requests->folium) (2023.11.17)\n"
          ]
        }
      ]
    },
    {
      "cell_type": "code",
      "source": [
        "from geopy.geocoders import OpenCage\n",
        "import folium\n",
        "from geopy.exc import GeocoderTimedOut\n",
        "\n",
        "def get_lat_long(api_key, postcode):\n",
        "    geolocator = OpenCage(api_key=api_key)\n",
        "\n",
        "    try:\n",
        "        location = geolocator.geocode(postcode)\n",
        "        if location:\n",
        "            return location.latitude, location.longitude\n",
        "        else:\n",
        "            return None\n",
        "    except GeocoderTimedOut:\n",
        "        print(\"Geocoding service timed out. Please try again.\")\n",
        "        return None\n",
        "\n",
        "def plot_on_map(coordinates):\n",
        "    if coordinates:\n",
        "        map_center = coordinates\n",
        "        map_location = folium.Map(location=map_center, zoom_start=15)\n",
        "        folium.Marker(location=map_center, popup=\"Location\").add_to(map_location)\n",
        "        map_location.save(\"map_location.html\")\n",
        "        print(f\"Map saved as 'map_location.html'. Open it in your browser to view the location.\")\n",
        "    else:\n",
        "        print(\"Unable to retrieve coordinates for the given postcode.\")\n",
        "\n",
        "def main():\n",
        "    # Replace 'YOUR_API_KEY' with your OpenCage Geocoding API key\n",
        "    api_key = '822c0d161ed84d54a090cbe18537e250'\n",
        "\n",
        "    postcode = input(\"Enter the postcode: \")\n",
        "\n",
        "    coordinates = get_lat_long(api_key, postcode)\n",
        "\n",
        "    plot_on_map(coordinates)\n",
        "\n",
        "if __name__ == \"__main__\":\n",
        "    main()\n"
      ],
      "metadata": {
        "colab": {
          "base_uri": "https://localhost:8080/"
        },
        "id": "rTcFi_nQeAl3",
        "outputId": "ab28c8b1-7dec-4978-f52b-b77760d8b48d"
      },
      "execution_count": 4,
      "outputs": [
        {
          "output_type": "stream",
          "name": "stdout",
          "text": [
            "Enter the postcode: da14 6bg\n",
            "Map saved as 'map_location.html'. Open it in your browser to view the location.\n"
          ]
        }
      ]
    }
  ]
}