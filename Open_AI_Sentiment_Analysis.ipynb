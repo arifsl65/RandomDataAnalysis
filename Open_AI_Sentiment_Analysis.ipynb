{
  "nbformat": 4,
  "nbformat_minor": 0,
  "metadata": {
    "colab": {
      "provenance": [],
      "authorship_tag": "ABX9TyPjG1DozwsWsW1ny+xMxI6E",
      "include_colab_link": true
    },
    "kernelspec": {
      "name": "python3",
      "display_name": "Python 3"
    },
    "language_info": {
      "name": "python"
    }
  },
  "cells": [
    {
      "cell_type": "markdown",
      "metadata": {
        "id": "view-in-github",
        "colab_type": "text"
      },
      "source": [
        "<a href=\"https://colab.research.google.com/github/arifsl65/RandomDataAnalysis/blob/main/Open_AI_Sentiment_Analysis.ipynb\" target=\"_parent\"><img src=\"https://colab.research.google.com/assets/colab-badge.svg\" alt=\"Open In Colab\"/></a>"
      ]
    },
    {
      "cell_type": "code",
      "source": [
        "from google.colab import files\n",
        "\n",
        "uploaded = files.upload()\n",
        "\n",
        "# Assuming the uploaded file is the first one\n",
        "pdf_path = next(iter(uploaded))\n"
      ],
      "metadata": {
        "colab": {
          "base_uri": "https://localhost:8080/",
          "height": 73
        },
        "id": "gh8DVwo-eEZW",
        "outputId": "b3a5ffe5-8c81-4997-9703-c6ce43da01cc"
      },
      "execution_count": 51,
      "outputs": [
        {
          "output_type": "display_data",
          "data": {
            "text/plain": [
              "<IPython.core.display.HTML object>"
            ],
            "text/html": [
              "\n",
              "     <input type=\"file\" id=\"files-978dc538-9b2e-4a81-8f93-d1c504bf47ad\" name=\"files[]\" multiple disabled\n",
              "        style=\"border:none\" />\n",
              "     <output id=\"result-978dc538-9b2e-4a81-8f93-d1c504bf47ad\">\n",
              "      Upload widget is only available when the cell has been executed in the\n",
              "      current browser session. Please rerun this cell to enable.\n",
              "      </output>\n",
              "      <script>// Copyright 2017 Google LLC\n",
              "//\n",
              "// Licensed under the Apache License, Version 2.0 (the \"License\");\n",
              "// you may not use this file except in compliance with the License.\n",
              "// You may obtain a copy of the License at\n",
              "//\n",
              "//      http://www.apache.org/licenses/LICENSE-2.0\n",
              "//\n",
              "// Unless required by applicable law or agreed to in writing, software\n",
              "// distributed under the License is distributed on an \"AS IS\" BASIS,\n",
              "// WITHOUT WARRANTIES OR CONDITIONS OF ANY KIND, either express or implied.\n",
              "// See the License for the specific language governing permissions and\n",
              "// limitations under the License.\n",
              "\n",
              "/**\n",
              " * @fileoverview Helpers for google.colab Python module.\n",
              " */\n",
              "(function(scope) {\n",
              "function span(text, styleAttributes = {}) {\n",
              "  const element = document.createElement('span');\n",
              "  element.textContent = text;\n",
              "  for (const key of Object.keys(styleAttributes)) {\n",
              "    element.style[key] = styleAttributes[key];\n",
              "  }\n",
              "  return element;\n",
              "}\n",
              "\n",
              "// Max number of bytes which will be uploaded at a time.\n",
              "const MAX_PAYLOAD_SIZE = 100 * 1024;\n",
              "\n",
              "function _uploadFiles(inputId, outputId) {\n",
              "  const steps = uploadFilesStep(inputId, outputId);\n",
              "  const outputElement = document.getElementById(outputId);\n",
              "  // Cache steps on the outputElement to make it available for the next call\n",
              "  // to uploadFilesContinue from Python.\n",
              "  outputElement.steps = steps;\n",
              "\n",
              "  return _uploadFilesContinue(outputId);\n",
              "}\n",
              "\n",
              "// This is roughly an async generator (not supported in the browser yet),\n",
              "// where there are multiple asynchronous steps and the Python side is going\n",
              "// to poll for completion of each step.\n",
              "// This uses a Promise to block the python side on completion of each step,\n",
              "// then passes the result of the previous step as the input to the next step.\n",
              "function _uploadFilesContinue(outputId) {\n",
              "  const outputElement = document.getElementById(outputId);\n",
              "  const steps = outputElement.steps;\n",
              "\n",
              "  const next = steps.next(outputElement.lastPromiseValue);\n",
              "  return Promise.resolve(next.value.promise).then((value) => {\n",
              "    // Cache the last promise value to make it available to the next\n",
              "    // step of the generator.\n",
              "    outputElement.lastPromiseValue = value;\n",
              "    return next.value.response;\n",
              "  });\n",
              "}\n",
              "\n",
              "/**\n",
              " * Generator function which is called between each async step of the upload\n",
              " * process.\n",
              " * @param {string} inputId Element ID of the input file picker element.\n",
              " * @param {string} outputId Element ID of the output display.\n",
              " * @return {!Iterable<!Object>} Iterable of next steps.\n",
              " */\n",
              "function* uploadFilesStep(inputId, outputId) {\n",
              "  const inputElement = document.getElementById(inputId);\n",
              "  inputElement.disabled = false;\n",
              "\n",
              "  const outputElement = document.getElementById(outputId);\n",
              "  outputElement.innerHTML = '';\n",
              "\n",
              "  const pickedPromise = new Promise((resolve) => {\n",
              "    inputElement.addEventListener('change', (e) => {\n",
              "      resolve(e.target.files);\n",
              "    });\n",
              "  });\n",
              "\n",
              "  const cancel = document.createElement('button');\n",
              "  inputElement.parentElement.appendChild(cancel);\n",
              "  cancel.textContent = 'Cancel upload';\n",
              "  const cancelPromise = new Promise((resolve) => {\n",
              "    cancel.onclick = () => {\n",
              "      resolve(null);\n",
              "    };\n",
              "  });\n",
              "\n",
              "  // Wait for the user to pick the files.\n",
              "  const files = yield {\n",
              "    promise: Promise.race([pickedPromise, cancelPromise]),\n",
              "    response: {\n",
              "      action: 'starting',\n",
              "    }\n",
              "  };\n",
              "\n",
              "  cancel.remove();\n",
              "\n",
              "  // Disable the input element since further picks are not allowed.\n",
              "  inputElement.disabled = true;\n",
              "\n",
              "  if (!files) {\n",
              "    return {\n",
              "      response: {\n",
              "        action: 'complete',\n",
              "      }\n",
              "    };\n",
              "  }\n",
              "\n",
              "  for (const file of files) {\n",
              "    const li = document.createElement('li');\n",
              "    li.append(span(file.name, {fontWeight: 'bold'}));\n",
              "    li.append(span(\n",
              "        `(${file.type || 'n/a'}) - ${file.size} bytes, ` +\n",
              "        `last modified: ${\n",
              "            file.lastModifiedDate ? file.lastModifiedDate.toLocaleDateString() :\n",
              "                                    'n/a'} - `));\n",
              "    const percent = span('0% done');\n",
              "    li.appendChild(percent);\n",
              "\n",
              "    outputElement.appendChild(li);\n",
              "\n",
              "    const fileDataPromise = new Promise((resolve) => {\n",
              "      const reader = new FileReader();\n",
              "      reader.onload = (e) => {\n",
              "        resolve(e.target.result);\n",
              "      };\n",
              "      reader.readAsArrayBuffer(file);\n",
              "    });\n",
              "    // Wait for the data to be ready.\n",
              "    let fileData = yield {\n",
              "      promise: fileDataPromise,\n",
              "      response: {\n",
              "        action: 'continue',\n",
              "      }\n",
              "    };\n",
              "\n",
              "    // Use a chunked sending to avoid message size limits. See b/62115660.\n",
              "    let position = 0;\n",
              "    do {\n",
              "      const length = Math.min(fileData.byteLength - position, MAX_PAYLOAD_SIZE);\n",
              "      const chunk = new Uint8Array(fileData, position, length);\n",
              "      position += length;\n",
              "\n",
              "      const base64 = btoa(String.fromCharCode.apply(null, chunk));\n",
              "      yield {\n",
              "        response: {\n",
              "          action: 'append',\n",
              "          file: file.name,\n",
              "          data: base64,\n",
              "        },\n",
              "      };\n",
              "\n",
              "      let percentDone = fileData.byteLength === 0 ?\n",
              "          100 :\n",
              "          Math.round((position / fileData.byteLength) * 100);\n",
              "      percent.textContent = `${percentDone}% done`;\n",
              "\n",
              "    } while (position < fileData.byteLength);\n",
              "  }\n",
              "\n",
              "  // All done.\n",
              "  yield {\n",
              "    response: {\n",
              "      action: 'complete',\n",
              "    }\n",
              "  };\n",
              "}\n",
              "\n",
              "scope.google = scope.google || {};\n",
              "scope.google.colab = scope.google.colab || {};\n",
              "scope.google.colab._files = {\n",
              "  _uploadFiles,\n",
              "  _uploadFilesContinue,\n",
              "};\n",
              "})(self);\n",
              "</script> "
            ]
          },
          "metadata": {}
        },
        {
          "output_type": "stream",
          "name": "stdout",
          "text": [
            "Saving Withington_girl's_school_Mathematics-2020-PAPER-2.pdf to Withington_girl's_school_Mathematics-2020-PAPER-2.pdf\n"
          ]
        }
      ]
    },
    {
      "cell_type": "code",
      "source": [
        "openai.api_key ="
      ],
      "metadata": {
        "id": "Byr0bDtSkLMG"
      },
      "execution_count": 36,
      "outputs": []
    },
    {
      "cell_type": "code",
      "source": [
        "# import requests\n",
        "\n",
        "# # URL of the PDF file\n",
        "# url = 'https://drive.google.com/uc?export=download&id=12Prnw-t2vjFYOZIb3GvZEIMtlxrBlL_I'\n",
        "\n",
        "# # Download the PDF file\n",
        "# response = requests.get(url)\n",
        "# pdf_path = '/tmp/test.pdf'\n",
        "\n",
        "# # Save the downloaded file\n",
        "# with open(pdf_path, 'wb') as f:\n",
        "#     f.write(response.content)\n",
        "\n",
        "# print(f\"PDF downloaded and saved to {pdf_path}\")\n"
      ],
      "metadata": {
        "colab": {
          "base_uri": "https://localhost:8080/"
        },
        "id": "84gzHw_whImr",
        "outputId": "1e189cad-442f-4ccd-8836-717eb022f100"
      },
      "execution_count": 16,
      "outputs": [
        {
          "output_type": "stream",
          "name": "stdout",
          "text": [
            "PDF downloaded and saved to /tmp/test.pdf\n"
          ]
        }
      ]
    },
    {
      "cell_type": "code",
      "source": [
        "import PyPDF2\n",
        "\n",
        "def extract_text_from_pdf(pdf_path):\n",
        "    with open(pdf_path, 'rb') as f:\n",
        "        reader = PyPDF2.PdfReader(f)\n",
        "        text = \"\"\n",
        "        for page in reader.pages:\n",
        "            text += page.extract_text()\n",
        "    return text\n",
        "\n",
        "pdf_text = extract_text_from_pdf(pdf_path)\n",
        "print(\"Extracted Text from PDF:\")\n",
        "print(pdf_text)\n"
      ],
      "metadata": {
        "id": "GC-bKbUzhQlr"
      },
      "execution_count": null,
      "outputs": []
    },
    {
      "cell_type": "code",
      "source": [
        "import openai\n",
        "\n",
        "def perform_sentiment_analysis(text, model=\"gpt-3.5-turbo\"):\n",
        "    prompt = f\"Sentiment: {text}\"\n",
        "    messages = [{\"role\": \"user\", \"content\": prompt}]\n",
        "    response = openai.ChatCompletion.create(\n",
        "        model=model,\n",
        "        messages=messages,\n",
        "        temperature=0  # Adjust this as needed\n",
        "    )\n",
        "    sentiment = response['choices'][0]['message']['content'].strip()\n",
        "    return sentiment\n",
        "\n",
        "sentiment = perform_sentiment_analysis(pdf_text)\n",
        "print(sentiment)\n"
      ],
      "metadata": {
        "colab": {
          "base_uri": "https://localhost:8080/"
        },
        "id": "2_Mf7dMWkCxh",
        "outputId": "4f6abdc7-f6f8-4745-d079-8f4738413137"
      },
      "execution_count": 53,
      "outputs": [
        {
          "output_type": "stream",
          "name": "stdout",
          "text": [
            "Overall, the sentiment of this document seems to be neutral. It is a mathematics examination paper for entrance into Withington Girls' School, providing various questions for the students to answer. The instructions are clear and straightforward, guiding the students on how to approach the questions. The paper covers a range of mathematical concepts and calculations for the students to demonstrate their understanding.\n"
          ]
        }
      ]
    },
    {
      "cell_type": "code",
      "source": [],
      "metadata": {
        "id": "Q8mquC1ur3Ot"
      },
      "execution_count": null,
      "outputs": []
    },
    {
      "cell_type": "code",
      "source": [
        "# Questions to be answered\n",
        "questions = [\n",
        "    \"1. Why was Mi Nuong lonely? A The song she heard reminded her of the world outside. B She was confined to the tower. C She was tired of her daily routine. D Her maid wasn’t very good company. E She wanted to be rescued by her true love.\",\n",
        "    \"2. What does Mi Nuong usually do to pass the time in her tower? A She sings. B She plays cards. C She dreams of her true love. D She paints. E She sews.\",\n",
        "    \"3. What is Mi Nuong’s father like? A Cruel B Proud C Protective D Resentful E Arrogant\",\n",
        "    \"4. Which one of these things isn’t mentioned in the story? A Water B Fire C Sunlight D Moonlight E Gold\",\n",
        "    \"5. How does the music make Mi Nuong feel? A Forlorn and lonely B Enthralled and wishful C Powerful and strong D Sorrowful and desperate E Lovesick and anxious\",\n",
        "    \"6. Why was the man on the boat? A He hopes to persuade Mi Nuong to marry him. B He has come to sing for Mi Nuong’s father. C He is delivering goods to the palace. D He is fishing in the river. E He has come to take Mi Nuong to a distant land.\",\n",
        "    \"7. Why does Mi Nuong lean as far out of the window as she can? A She wants to hear more of the song. B She wants the figure on the fishing boat to see her. C She wants to see the singer. D She is fascinated by the music. E She wants the man on the boat to rescue her.\",\n",
        "    \"8. Which of these words best describes how Mi Nuong feels at the end of the passage? A Optimistic B Relieved C Infatuated D Besotted E Emotional\",\n",
        "]\n",
        "\n",
        "# Function to solve questions using OpenAI\n",
        "def solve_questions(text, questions):\n",
        "    answers = []\n",
        "    for question in questions:\n",
        "        prompt = f\"Text: {text}\\n\\nQuestion: {question}\\nAnswer:\"\n",
        "        answer = get_completion(prompt)\n",
        "        answers.append((question, answer))\n",
        "    return answers\n",
        "\n",
        "# Solve the questions\n",
        "answers = solve_questions(pdf_text, questions)\n",
        "\n",
        "# Print the questions with their answers\n",
        "for i, (question, answer) in enumerate(answers, 1):\n",
        "    print(f\"Question {i}: {question}\\nAnswer: {answer}\\n\")"
      ],
      "metadata": {
        "colab": {
          "base_uri": "https://localhost:8080/"
        },
        "id": "Zr4VAbH1kgQs",
        "outputId": "cf035aa4-860d-4146-dd7f-44811b3512fb"
      },
      "execution_count": 39,
      "outputs": [
        {
          "output_type": "stream",
          "name": "stdout",
          "text": [
            "Question 1: 1. Why was Mi Nuong lonely? A The song she heard reminded her of the world outside. B She was confined to the tower. C She was tired of her daily routine. D Her maid wasn’t very good company. E She wanted to be rescued by her true love.\n",
            "Answer: B She was confined to the tower.\n",
            "\n",
            "Question 2: 2. What does Mi Nuong usually do to pass the time in her tower? A She sings. B She plays cards. C She dreams of her true love. D She paints. E She sews.\n",
            "Answer: E She sews.\n",
            "\n",
            "Question 3: 3. What is Mi Nuong’s father like? A Cruel B Proud C Protective D Resentful E Arrogant\n",
            "Answer: C Protective\n",
            "\n",
            "Question 4: 4. Which one of these things isn’t mentioned in the story? A Water B Fire C Sunlight D Moonlight E Gold\n",
            "Answer: B Fire\n",
            "\n",
            "Question 5: 5. How does the music make Mi Nuong feel? A Forlorn and lonely B Enthralled and wishful C Powerful and strong D Sorrowful and desperate E Lovesick and anxious\n",
            "Answer: B Enthralled and wishful\n",
            "\n",
            "Question 6: 6. Why was the man on the boat? A He hopes to persuade Mi Nuong to marry him. B He has come to sing for Mi Nuong’s father. C He is delivering goods to the palace. D He is fishing in the river. E He has come to take Mi Nuong to a distant land.\n",
            "Answer: D. He is fishing in the river.\n",
            "\n",
            "Question 7: 7. Why does Mi Nuong lean as far out of the window as she can? A She wants to hear more of the song. B She wants the figure on the fishing boat to see her. C She wants to see the singer. D She is fascinated by the music. E She wants the man on the boat to rescue her.\n",
            "Answer: E She wants the man on the boat to rescue her.\n",
            "\n",
            "Question 8: 8. Which of these words best describes how Mi Nuong feels at the end of the passage? A Optimistic B Relieved C Infatuated D Besotted E Emotional\n",
            "Answer: B. Relieved\n",
            "\n"
          ]
        }
      ]
    }
  ]
}